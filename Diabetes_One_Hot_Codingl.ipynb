{
 "cells": [
  {
   "cell_type": "markdown",
   "id": "21e6e9d7-0275-4e1c-977d-8bcd1ee4210d",
   "metadata": {},
   "source": [
    "# **DIABETES DATASET: FEATURE ENGINEERING**"
   ]
  },
  {
   "cell_type": "markdown",
   "id": "bbd7414b-a43e-4577-b658-29099c1bfa43",
   "metadata": {},
   "source": [
    "<span style=\"font-size: 20px;\">Created by *Oleksiy Danilin*</span>"
   ]
  },
  {
   "cell_type": "markdown",
   "id": "2180f332-69ed-426e-b14e-16a4a14b4984",
   "metadata": {},
   "source": [
    "<span style=\"font-size: 16px;\">In this book, one-hot coding of categorical features is conducted to create a uniform dataset that consists only of binary features."
   ]
  },
  {
   "cell_type": "code",
   "execution_count": 9,
   "id": "cb1e14f5-f0c7-4567-9078-bcaa4c1b6729",
   "metadata": {},
   "outputs": [],
   "source": [
    "import pandas as pd\n",
    "import seaborn as sns\n",
    "import matplotlib.pyplot as plt\n",
    "from sklearn.model_selection import train_test_split\n",
    "from sklearn.preprocessing import StandardScaler\n",
    "from sklearn.linear_model import LogisticRegression\n",
    "from sklearn.ensemble import RandomForestClassifier\n",
    "from sklearn import metrics"
   ]
  },
  {
   "cell_type": "markdown",
   "id": "3a9bdbd8-3fda-443b-a10d-4c97c7b22668",
   "metadata": {},
   "source": [
    "### **General Dataset Check**"
   ]
  },
  {
   "cell_type": "code",
   "execution_count": 10,
   "id": "449d1b42-bac5-48ba-828f-ee39977c3c77",
   "metadata": {},
   "outputs": [],
   "source": [
    "#Loading the dataset\n",
    "df = pd.read_csv('diabetes_binary.csv')"
   ]
  },
  {
   "cell_type": "code",
   "execution_count": 11,
   "id": "04a994f7-47c9-441a-bbe2-0980745d01c6",
   "metadata": {},
   "outputs": [
    {
     "data": {
      "text/html": [
       "<div>\n",
       "<style scoped>\n",
       "    .dataframe tbody tr th:only-of-type {\n",
       "        vertical-align: middle;\n",
       "    }\n",
       "\n",
       "    .dataframe tbody tr th {\n",
       "        vertical-align: top;\n",
       "    }\n",
       "\n",
       "    .dataframe thead th {\n",
       "        text-align: right;\n",
       "    }\n",
       "</style>\n",
       "<table border=\"1\" class=\"dataframe\">\n",
       "  <thead>\n",
       "    <tr style=\"text-align: right;\">\n",
       "      <th></th>\n",
       "      <th>Diabetes_binary</th>\n",
       "      <th>HighBP</th>\n",
       "      <th>HighChol</th>\n",
       "      <th>CholCheck</th>\n",
       "      <th>BMI</th>\n",
       "      <th>Smoker</th>\n",
       "      <th>Stroke</th>\n",
       "      <th>HeartDiseaseorAttack</th>\n",
       "      <th>PhysActivity</th>\n",
       "      <th>Fruits</th>\n",
       "      <th>...</th>\n",
       "      <th>AnyHealthcare</th>\n",
       "      <th>NoDocbcCost</th>\n",
       "      <th>GenHlth</th>\n",
       "      <th>MentHlth</th>\n",
       "      <th>PhysHlth</th>\n",
       "      <th>DiffWalk</th>\n",
       "      <th>Sex</th>\n",
       "      <th>Age</th>\n",
       "      <th>Education</th>\n",
       "      <th>Income</th>\n",
       "    </tr>\n",
       "  </thead>\n",
       "  <tbody>\n",
       "    <tr>\n",
       "      <th>0</th>\n",
       "      <td>0</td>\n",
       "      <td>1</td>\n",
       "      <td>0</td>\n",
       "      <td>1</td>\n",
       "      <td>26</td>\n",
       "      <td>0</td>\n",
       "      <td>0</td>\n",
       "      <td>0</td>\n",
       "      <td>1</td>\n",
       "      <td>0</td>\n",
       "      <td>...</td>\n",
       "      <td>1</td>\n",
       "      <td>0</td>\n",
       "      <td>3</td>\n",
       "      <td>5</td>\n",
       "      <td>30</td>\n",
       "      <td>0</td>\n",
       "      <td>1</td>\n",
       "      <td>4</td>\n",
       "      <td>6</td>\n",
       "      <td>8</td>\n",
       "    </tr>\n",
       "    <tr>\n",
       "      <th>1</th>\n",
       "      <td>0</td>\n",
       "      <td>1</td>\n",
       "      <td>1</td>\n",
       "      <td>1</td>\n",
       "      <td>26</td>\n",
       "      <td>1</td>\n",
       "      <td>1</td>\n",
       "      <td>0</td>\n",
       "      <td>0</td>\n",
       "      <td>1</td>\n",
       "      <td>...</td>\n",
       "      <td>1</td>\n",
       "      <td>0</td>\n",
       "      <td>3</td>\n",
       "      <td>0</td>\n",
       "      <td>0</td>\n",
       "      <td>0</td>\n",
       "      <td>1</td>\n",
       "      <td>12</td>\n",
       "      <td>6</td>\n",
       "      <td>8</td>\n",
       "    </tr>\n",
       "    <tr>\n",
       "      <th>2</th>\n",
       "      <td>0</td>\n",
       "      <td>0</td>\n",
       "      <td>0</td>\n",
       "      <td>1</td>\n",
       "      <td>26</td>\n",
       "      <td>0</td>\n",
       "      <td>0</td>\n",
       "      <td>0</td>\n",
       "      <td>1</td>\n",
       "      <td>1</td>\n",
       "      <td>...</td>\n",
       "      <td>1</td>\n",
       "      <td>0</td>\n",
       "      <td>1</td>\n",
       "      <td>0</td>\n",
       "      <td>10</td>\n",
       "      <td>0</td>\n",
       "      <td>1</td>\n",
       "      <td>13</td>\n",
       "      <td>6</td>\n",
       "      <td>8</td>\n",
       "    </tr>\n",
       "    <tr>\n",
       "      <th>3</th>\n",
       "      <td>0</td>\n",
       "      <td>1</td>\n",
       "      <td>1</td>\n",
       "      <td>1</td>\n",
       "      <td>28</td>\n",
       "      <td>1</td>\n",
       "      <td>0</td>\n",
       "      <td>0</td>\n",
       "      <td>1</td>\n",
       "      <td>1</td>\n",
       "      <td>...</td>\n",
       "      <td>1</td>\n",
       "      <td>0</td>\n",
       "      <td>3</td>\n",
       "      <td>0</td>\n",
       "      <td>3</td>\n",
       "      <td>0</td>\n",
       "      <td>1</td>\n",
       "      <td>11</td>\n",
       "      <td>6</td>\n",
       "      <td>8</td>\n",
       "    </tr>\n",
       "    <tr>\n",
       "      <th>4</th>\n",
       "      <td>0</td>\n",
       "      <td>0</td>\n",
       "      <td>0</td>\n",
       "      <td>1</td>\n",
       "      <td>29</td>\n",
       "      <td>1</td>\n",
       "      <td>0</td>\n",
       "      <td>0</td>\n",
       "      <td>1</td>\n",
       "      <td>1</td>\n",
       "      <td>...</td>\n",
       "      <td>1</td>\n",
       "      <td>0</td>\n",
       "      <td>2</td>\n",
       "      <td>0</td>\n",
       "      <td>0</td>\n",
       "      <td>0</td>\n",
       "      <td>0</td>\n",
       "      <td>8</td>\n",
       "      <td>5</td>\n",
       "      <td>8</td>\n",
       "    </tr>\n",
       "  </tbody>\n",
       "</table>\n",
       "<p>5 rows × 22 columns</p>\n",
       "</div>"
      ],
      "text/plain": [
       "   Diabetes_binary  HighBP  HighChol  CholCheck  BMI  Smoker  Stroke  \\\n",
       "0                0       1         0          1   26       0       0   \n",
       "1                0       1         1          1   26       1       1   \n",
       "2                0       0         0          1   26       0       0   \n",
       "3                0       1         1          1   28       1       0   \n",
       "4                0       0         0          1   29       1       0   \n",
       "\n",
       "   HeartDiseaseorAttack  PhysActivity  Fruits  ...  AnyHealthcare  \\\n",
       "0                     0             1       0  ...              1   \n",
       "1                     0             0       1  ...              1   \n",
       "2                     0             1       1  ...              1   \n",
       "3                     0             1       1  ...              1   \n",
       "4                     0             1       1  ...              1   \n",
       "\n",
       "   NoDocbcCost  GenHlth  MentHlth  PhysHlth  DiffWalk  Sex  Age  Education  \\\n",
       "0            0        3         5        30         0    1    4          6   \n",
       "1            0        3         0         0         0    1   12          6   \n",
       "2            0        1         0        10         0    1   13          6   \n",
       "3            0        3         0         3         0    1   11          6   \n",
       "4            0        2         0         0         0    0    8          5   \n",
       "\n",
       "   Income  \n",
       "0       8  \n",
       "1       8  \n",
       "2       8  \n",
       "3       8  \n",
       "4       8  \n",
       "\n",
       "[5 rows x 22 columns]"
      ]
     },
     "execution_count": 11,
     "metadata": {},
     "output_type": "execute_result"
    }
   ],
   "source": [
    "df.head()"
   ]
  },
  {
   "cell_type": "code",
   "execution_count": 64,
   "id": "651798c4-945b-4ec7-bf8b-42797bfc278b",
   "metadata": {},
   "outputs": [
    {
     "name": "stdout",
     "output_type": "stream",
     "text": [
      "<class 'pandas.core.frame.DataFrame'>\n",
      "RangeIndex: 70692 entries, 0 to 70691\n",
      "Data columns (total 22 columns):\n",
      " #   Column                Non-Null Count  Dtype\n",
      "---  ------                --------------  -----\n",
      " 0   Diabetes_binary       70692 non-null  int64\n",
      " 1   HighBP                70692 non-null  int64\n",
      " 2   HighChol              70692 non-null  int64\n",
      " 3   CholCheck             70692 non-null  int64\n",
      " 4   BMI                   70692 non-null  int64\n",
      " 5   Smoker                70692 non-null  int64\n",
      " 6   Stroke                70692 non-null  int64\n",
      " 7   HeartDiseaseorAttack  70692 non-null  int64\n",
      " 8   PhysActivity          70692 non-null  int64\n",
      " 9   Fruits                70692 non-null  int64\n",
      " 10  Veggies               70692 non-null  int64\n",
      " 11  HvyAlcoholConsump     70692 non-null  int64\n",
      " 12  AnyHealthcare         70692 non-null  int64\n",
      " 13  NoDocbcCost           70692 non-null  int64\n",
      " 14  GenHlth               70692 non-null  int64\n",
      " 15  MentHlth              70692 non-null  int64\n",
      " 16  PhysHlth              70692 non-null  int64\n",
      " 17  DiffWalk              70692 non-null  int64\n",
      " 18  Sex                   70692 non-null  int64\n",
      " 19  Age                   70692 non-null  int64\n",
      " 20  Education             70692 non-null  int64\n",
      " 21  Income                70692 non-null  int64\n",
      "dtypes: int64(22)\n",
      "memory usage: 11.9 MB\n"
     ]
    }
   ],
   "source": [
    "#General dataset's desription\n",
    "df.info()"
   ]
  },
  {
   "cell_type": "code",
   "execution_count": 8,
   "id": "31147af1-7a52-4226-a48d-a0920a9c4a72",
   "metadata": {},
   "outputs": [
    {
     "data": {
      "text/plain": [
       "Diabetes_binary         0\n",
       "HighBP                  0\n",
       "HighChol                0\n",
       "CholCheck               0\n",
       "BMI                     0\n",
       "Smoker                  0\n",
       "Stroke                  0\n",
       "HeartDiseaseorAttack    0\n",
       "PhysActivity            0\n",
       "Fruits                  0\n",
       "Veggies                 0\n",
       "HvyAlcoholConsump       0\n",
       "AnyHealthcare           0\n",
       "NoDocbcCost             0\n",
       "GenHlth                 0\n",
       "MentHlth                0\n",
       "PhysHlth                0\n",
       "DiffWalk                0\n",
       "Sex                     0\n",
       "Age                     0\n",
       "Education               0\n",
       "Income                  0\n",
       "dtype: int64"
      ]
     },
     "execution_count": 8,
     "metadata": {},
     "output_type": "execute_result"
    }
   ],
   "source": [
    "df.isnull().sum()"
   ]
  },
  {
   "cell_type": "code",
   "execution_count": 5,
   "id": "29522553-7552-424f-9722-f71e407b7ae3",
   "metadata": {},
   "outputs": [
    {
     "data": {
      "text/html": [
       "<div>\n",
       "<style scoped>\n",
       "    .dataframe tbody tr th:only-of-type {\n",
       "        vertical-align: middle;\n",
       "    }\n",
       "\n",
       "    .dataframe tbody tr th {\n",
       "        vertical-align: top;\n",
       "    }\n",
       "\n",
       "    .dataframe thead th {\n",
       "        text-align: right;\n",
       "    }\n",
       "</style>\n",
       "<table border=\"1\" class=\"dataframe\">\n",
       "  <thead>\n",
       "    <tr style=\"text-align: right;\">\n",
       "      <th></th>\n",
       "      <th>Diabetes_binary</th>\n",
       "      <th>HighBP</th>\n",
       "      <th>HighChol</th>\n",
       "      <th>CholCheck</th>\n",
       "      <th>BMI</th>\n",
       "      <th>Smoker</th>\n",
       "      <th>Stroke</th>\n",
       "      <th>HeartDiseaseorAttack</th>\n",
       "      <th>PhysActivity</th>\n",
       "      <th>Fruits</th>\n",
       "      <th>...</th>\n",
       "      <th>AnyHealthcare</th>\n",
       "      <th>NoDocbcCost</th>\n",
       "      <th>GenHlth</th>\n",
       "      <th>MentHlth</th>\n",
       "      <th>PhysHlth</th>\n",
       "      <th>DiffWalk</th>\n",
       "      <th>Sex</th>\n",
       "      <th>Age</th>\n",
       "      <th>Education</th>\n",
       "      <th>Income</th>\n",
       "    </tr>\n",
       "  </thead>\n",
       "  <tbody>\n",
       "    <tr>\n",
       "      <th>count</th>\n",
       "      <td>70692.000000</td>\n",
       "      <td>70692.000000</td>\n",
       "      <td>70692.000000</td>\n",
       "      <td>70692.000000</td>\n",
       "      <td>70692.000000</td>\n",
       "      <td>70692.000000</td>\n",
       "      <td>70692.000000</td>\n",
       "      <td>70692.000000</td>\n",
       "      <td>70692.000000</td>\n",
       "      <td>70692.000000</td>\n",
       "      <td>...</td>\n",
       "      <td>70692.000000</td>\n",
       "      <td>70692.000000</td>\n",
       "      <td>70692.000000</td>\n",
       "      <td>70692.000000</td>\n",
       "      <td>70692.000000</td>\n",
       "      <td>70692.000000</td>\n",
       "      <td>70692.000000</td>\n",
       "      <td>70692.000000</td>\n",
       "      <td>70692.000000</td>\n",
       "      <td>70692.000000</td>\n",
       "    </tr>\n",
       "    <tr>\n",
       "      <th>mean</th>\n",
       "      <td>0.500000</td>\n",
       "      <td>0.563458</td>\n",
       "      <td>0.525703</td>\n",
       "      <td>0.975259</td>\n",
       "      <td>29.856985</td>\n",
       "      <td>0.475273</td>\n",
       "      <td>0.062171</td>\n",
       "      <td>0.147810</td>\n",
       "      <td>0.703036</td>\n",
       "      <td>0.611795</td>\n",
       "      <td>...</td>\n",
       "      <td>0.954960</td>\n",
       "      <td>0.093914</td>\n",
       "      <td>2.837082</td>\n",
       "      <td>3.752037</td>\n",
       "      <td>5.810417</td>\n",
       "      <td>0.252730</td>\n",
       "      <td>0.456997</td>\n",
       "      <td>8.584055</td>\n",
       "      <td>4.920953</td>\n",
       "      <td>5.698311</td>\n",
       "    </tr>\n",
       "    <tr>\n",
       "      <th>std</th>\n",
       "      <td>0.500004</td>\n",
       "      <td>0.495960</td>\n",
       "      <td>0.499342</td>\n",
       "      <td>0.155336</td>\n",
       "      <td>7.113954</td>\n",
       "      <td>0.499392</td>\n",
       "      <td>0.241468</td>\n",
       "      <td>0.354914</td>\n",
       "      <td>0.456924</td>\n",
       "      <td>0.487345</td>\n",
       "      <td>...</td>\n",
       "      <td>0.207394</td>\n",
       "      <td>0.291712</td>\n",
       "      <td>1.113565</td>\n",
       "      <td>8.155627</td>\n",
       "      <td>10.062261</td>\n",
       "      <td>0.434581</td>\n",
       "      <td>0.498151</td>\n",
       "      <td>2.852153</td>\n",
       "      <td>1.029081</td>\n",
       "      <td>2.175196</td>\n",
       "    </tr>\n",
       "    <tr>\n",
       "      <th>min</th>\n",
       "      <td>0.000000</td>\n",
       "      <td>0.000000</td>\n",
       "      <td>0.000000</td>\n",
       "      <td>0.000000</td>\n",
       "      <td>12.000000</td>\n",
       "      <td>0.000000</td>\n",
       "      <td>0.000000</td>\n",
       "      <td>0.000000</td>\n",
       "      <td>0.000000</td>\n",
       "      <td>0.000000</td>\n",
       "      <td>...</td>\n",
       "      <td>0.000000</td>\n",
       "      <td>0.000000</td>\n",
       "      <td>1.000000</td>\n",
       "      <td>0.000000</td>\n",
       "      <td>0.000000</td>\n",
       "      <td>0.000000</td>\n",
       "      <td>0.000000</td>\n",
       "      <td>1.000000</td>\n",
       "      <td>1.000000</td>\n",
       "      <td>1.000000</td>\n",
       "    </tr>\n",
       "    <tr>\n",
       "      <th>25%</th>\n",
       "      <td>0.000000</td>\n",
       "      <td>0.000000</td>\n",
       "      <td>0.000000</td>\n",
       "      <td>1.000000</td>\n",
       "      <td>25.000000</td>\n",
       "      <td>0.000000</td>\n",
       "      <td>0.000000</td>\n",
       "      <td>0.000000</td>\n",
       "      <td>0.000000</td>\n",
       "      <td>0.000000</td>\n",
       "      <td>...</td>\n",
       "      <td>1.000000</td>\n",
       "      <td>0.000000</td>\n",
       "      <td>2.000000</td>\n",
       "      <td>0.000000</td>\n",
       "      <td>0.000000</td>\n",
       "      <td>0.000000</td>\n",
       "      <td>0.000000</td>\n",
       "      <td>7.000000</td>\n",
       "      <td>4.000000</td>\n",
       "      <td>4.000000</td>\n",
       "    </tr>\n",
       "    <tr>\n",
       "      <th>50%</th>\n",
       "      <td>0.500000</td>\n",
       "      <td>1.000000</td>\n",
       "      <td>1.000000</td>\n",
       "      <td>1.000000</td>\n",
       "      <td>29.000000</td>\n",
       "      <td>0.000000</td>\n",
       "      <td>0.000000</td>\n",
       "      <td>0.000000</td>\n",
       "      <td>1.000000</td>\n",
       "      <td>1.000000</td>\n",
       "      <td>...</td>\n",
       "      <td>1.000000</td>\n",
       "      <td>0.000000</td>\n",
       "      <td>3.000000</td>\n",
       "      <td>0.000000</td>\n",
       "      <td>0.000000</td>\n",
       "      <td>0.000000</td>\n",
       "      <td>0.000000</td>\n",
       "      <td>9.000000</td>\n",
       "      <td>5.000000</td>\n",
       "      <td>6.000000</td>\n",
       "    </tr>\n",
       "    <tr>\n",
       "      <th>75%</th>\n",
       "      <td>1.000000</td>\n",
       "      <td>1.000000</td>\n",
       "      <td>1.000000</td>\n",
       "      <td>1.000000</td>\n",
       "      <td>33.000000</td>\n",
       "      <td>1.000000</td>\n",
       "      <td>0.000000</td>\n",
       "      <td>0.000000</td>\n",
       "      <td>1.000000</td>\n",
       "      <td>1.000000</td>\n",
       "      <td>...</td>\n",
       "      <td>1.000000</td>\n",
       "      <td>0.000000</td>\n",
       "      <td>4.000000</td>\n",
       "      <td>2.000000</td>\n",
       "      <td>6.000000</td>\n",
       "      <td>1.000000</td>\n",
       "      <td>1.000000</td>\n",
       "      <td>11.000000</td>\n",
       "      <td>6.000000</td>\n",
       "      <td>8.000000</td>\n",
       "    </tr>\n",
       "    <tr>\n",
       "      <th>max</th>\n",
       "      <td>1.000000</td>\n",
       "      <td>1.000000</td>\n",
       "      <td>1.000000</td>\n",
       "      <td>1.000000</td>\n",
       "      <td>98.000000</td>\n",
       "      <td>1.000000</td>\n",
       "      <td>1.000000</td>\n",
       "      <td>1.000000</td>\n",
       "      <td>1.000000</td>\n",
       "      <td>1.000000</td>\n",
       "      <td>...</td>\n",
       "      <td>1.000000</td>\n",
       "      <td>1.000000</td>\n",
       "      <td>5.000000</td>\n",
       "      <td>30.000000</td>\n",
       "      <td>30.000000</td>\n",
       "      <td>1.000000</td>\n",
       "      <td>1.000000</td>\n",
       "      <td>13.000000</td>\n",
       "      <td>6.000000</td>\n",
       "      <td>8.000000</td>\n",
       "    </tr>\n",
       "  </tbody>\n",
       "</table>\n",
       "<p>8 rows × 22 columns</p>\n",
       "</div>"
      ],
      "text/plain": [
       "       Diabetes_binary        HighBP      HighChol     CholCheck  \\\n",
       "count     70692.000000  70692.000000  70692.000000  70692.000000   \n",
       "mean          0.500000      0.563458      0.525703      0.975259   \n",
       "std           0.500004      0.495960      0.499342      0.155336   \n",
       "min           0.000000      0.000000      0.000000      0.000000   \n",
       "25%           0.000000      0.000000      0.000000      1.000000   \n",
       "50%           0.500000      1.000000      1.000000      1.000000   \n",
       "75%           1.000000      1.000000      1.000000      1.000000   \n",
       "max           1.000000      1.000000      1.000000      1.000000   \n",
       "\n",
       "                BMI        Smoker        Stroke  HeartDiseaseorAttack  \\\n",
       "count  70692.000000  70692.000000  70692.000000          70692.000000   \n",
       "mean      29.856985      0.475273      0.062171              0.147810   \n",
       "std        7.113954      0.499392      0.241468              0.354914   \n",
       "min       12.000000      0.000000      0.000000              0.000000   \n",
       "25%       25.000000      0.000000      0.000000              0.000000   \n",
       "50%       29.000000      0.000000      0.000000              0.000000   \n",
       "75%       33.000000      1.000000      0.000000              0.000000   \n",
       "max       98.000000      1.000000      1.000000              1.000000   \n",
       "\n",
       "       PhysActivity        Fruits  ...  AnyHealthcare   NoDocbcCost  \\\n",
       "count  70692.000000  70692.000000  ...   70692.000000  70692.000000   \n",
       "mean       0.703036      0.611795  ...       0.954960      0.093914   \n",
       "std        0.456924      0.487345  ...       0.207394      0.291712   \n",
       "min        0.000000      0.000000  ...       0.000000      0.000000   \n",
       "25%        0.000000      0.000000  ...       1.000000      0.000000   \n",
       "50%        1.000000      1.000000  ...       1.000000      0.000000   \n",
       "75%        1.000000      1.000000  ...       1.000000      0.000000   \n",
       "max        1.000000      1.000000  ...       1.000000      1.000000   \n",
       "\n",
       "            GenHlth      MentHlth      PhysHlth      DiffWalk           Sex  \\\n",
       "count  70692.000000  70692.000000  70692.000000  70692.000000  70692.000000   \n",
       "mean       2.837082      3.752037      5.810417      0.252730      0.456997   \n",
       "std        1.113565      8.155627     10.062261      0.434581      0.498151   \n",
       "min        1.000000      0.000000      0.000000      0.000000      0.000000   \n",
       "25%        2.000000      0.000000      0.000000      0.000000      0.000000   \n",
       "50%        3.000000      0.000000      0.000000      0.000000      0.000000   \n",
       "75%        4.000000      2.000000      6.000000      1.000000      1.000000   \n",
       "max        5.000000     30.000000     30.000000      1.000000      1.000000   \n",
       "\n",
       "                Age     Education        Income  \n",
       "count  70692.000000  70692.000000  70692.000000  \n",
       "mean       8.584055      4.920953      5.698311  \n",
       "std        2.852153      1.029081      2.175196  \n",
       "min        1.000000      1.000000      1.000000  \n",
       "25%        7.000000      4.000000      4.000000  \n",
       "50%        9.000000      5.000000      6.000000  \n",
       "75%       11.000000      6.000000      8.000000  \n",
       "max       13.000000      6.000000      8.000000  \n",
       "\n",
       "[8 rows x 22 columns]"
      ]
     },
     "execution_count": 5,
     "metadata": {},
     "output_type": "execute_result"
    }
   ],
   "source": [
    "df.describe(include='all')"
   ]
  },
  {
   "cell_type": "markdown",
   "id": "36b0ebd8-ccbc-4924-a12a-a90cbf11134d",
   "metadata": {},
   "source": [
    "## **Distribution of Binary Variables**"
   ]
  },
  {
   "cell_type": "code",
   "execution_count": 6,
   "id": "84fd3635-8ebe-47e0-9189-0fb282d61246",
   "metadata": {},
   "outputs": [
    {
     "name": "stdout",
     "output_type": "stream",
     "text": [
      "                      Count_0 (No)  Count_1 (Yes)\n",
      "Diabetes_binary              35346          35346\n",
      "HighBP                       30860          39832\n",
      "HighChol                     33529          37163\n",
      "CholCheck                     1749          68943\n",
      "Smoker                       37094          33598\n",
      "Stroke                       66297           4395\n",
      "HeartDiseaseorAttack         60243          10449\n",
      "PhysActivity                 20993          49699\n",
      "Fruits                       27443          43249\n",
      "Veggies                      14932          55760\n",
      "HvyAlcoholConsump            67672           3020\n",
      "AnyHealthcare                 3184          67508\n",
      "NoDocbcCost                  64053           6639\n",
      "DiffWalk                     52826          17866\n",
      "Sex                          38386          32306\n"
     ]
    }
   ],
   "source": [
    "# List of binary columns to analyze\n",
    "binary_columns = ['Diabetes_binary', 'HighBP', 'HighChol', 'CholCheck', \n",
    "                  'Smoker', 'Stroke', 'HeartDiseaseorAttack', 'PhysActivity', \n",
    "                  'Fruits', 'Veggies', 'HvyAlcoholConsump', 'AnyHealthcare', \n",
    "                  'NoDocbcCost', 'DiffWalk', 'Sex']\n",
    "\n",
    "# Create a DataFrame to hold the counts\n",
    "binary_counts = {}\n",
    "\n",
    "# Loop through each binary column and get value counts\n",
    "for column in binary_columns:\n",
    "    binary_counts[column] = df[column].value_counts()\n",
    "\n",
    "# Convert the dictionary to a DataFrame\n",
    "binary_distribution = pd.DataFrame(binary_counts).T\n",
    "\n",
    "# Rename the index for clarity\n",
    "binary_distribution.columns = ['Count_0 (No)', 'Count_1 (Yes)']\n",
    "\n",
    "# Display the distribution table\n",
    "print(binary_distribution)"
   ]
  },
  {
   "cell_type": "markdown",
   "id": "1cf58e13-e9da-4257-9f16-2abbea57c648",
   "metadata": {},
   "source": [
    "### **HighBMI**"
   ]
  },
  {
   "cell_type": "code",
   "execution_count": 36,
   "id": "45ca8a06-3b32-4abd-bc2b-028b08e9182a",
   "metadata": {},
   "outputs": [
    {
     "name": "stdout",
     "output_type": "stream",
     "text": [
      "count    70692.000000\n",
      "mean        29.856985\n",
      "std          7.113954\n",
      "min         12.000000\n",
      "25%         25.000000\n",
      "50%         29.000000\n",
      "75%         33.000000\n",
      "max         98.000000\n",
      "Name: BMI, dtype: float64\n"
     ]
    }
   ],
   "source": [
    "# Descriptive statistics for BMI column\n",
    "bmi_stats = df['BMI'].describe()\n",
    "print(bmi_stats)"
   ]
  },
  {
   "cell_type": "code",
   "execution_count": 37,
   "id": "ad2b982d-1059-4898-a7db-224f6fc5167a",
   "metadata": {},
   "outputs": [
    {
     "name": "stdout",
     "output_type": "stream",
     "text": [
      "    BMI  HighBMI\n",
      "0    26        1\n",
      "1    26        1\n",
      "2    26        1\n",
      "3    28        1\n",
      "4    29        1\n",
      "5    18        0\n",
      "6    26        1\n",
      "7    31        1\n",
      "8    32        1\n",
      "9    27        1\n",
      "10   24        0\n",
      "11   21        0\n",
      "12   27        1\n",
      "13   58        1\n",
      "14   29        1\n",
      "15   18        0\n",
      "16   30        1\n",
      "17   30        1\n",
      "18   20        0\n",
      "19   26        1\n"
     ]
    }
   ],
   "source": [
    "# One-hot Coding: Create the HighBMI column based on the BMI values\n",
    "df['HighBMI'] = (df['BMI'] >= 25).astype(int)\n",
    "\n",
    "# Check the first few rows to verify\n",
    "print(df[['BMI', 'HighBMI']].head(20))"
   ]
  },
  {
   "cell_type": "code",
   "execution_count": 38,
   "id": "62de2e50-2342-449c-a1c3-67689a7d1ce8",
   "metadata": {},
   "outputs": [
    {
     "name": "stdout",
     "output_type": "stream",
     "text": [
      "HighBMI\n",
      "1    78.621343\n",
      "0    21.378657\n",
      "Name: proportion, dtype: float64\n"
     ]
    }
   ],
   "source": [
    "# Distribution of values in percentages\n",
    "print(df['HighBMI'].value_counts(normalize=True) * 100)"
   ]
  },
  {
   "cell_type": "markdown",
   "id": "699763f1-e30c-422e-899e-2eba34570b95",
   "metadata": {},
   "source": [
    "### **PoorGenHlth** "
   ]
  },
  {
   "cell_type": "code",
   "execution_count": 18,
   "id": "d14420e7-90db-4781-97af-9b7bea0dbf4e",
   "metadata": {},
   "outputs": [
    {
     "name": "stdout",
     "output_type": "stream",
     "text": [
      "GenHlth\n",
      "3    33.139535\n",
      "2    28.110677\n",
      "4    18.818254\n",
      "1    11.715611\n",
      "5     8.215923\n",
      "Name: proportion, dtype: float64\n"
     ]
    }
   ],
   "source": [
    "# Distribution of values in percentages\n",
    "print(df['GenHlth'].value_counts(normalize=True) * 100)"
   ]
  },
  {
   "cell_type": "code",
   "execution_count": 25,
   "id": "5d92184f-9236-463e-834d-6ee802724c59",
   "metadata": {},
   "outputs": [
    {
     "name": "stdout",
     "output_type": "stream",
     "text": [
      "    GenHlth  PoorGenHlth\n",
      "0         3            0\n",
      "1         3            0\n",
      "2         1            0\n",
      "3         3            0\n",
      "4         2            0\n",
      "5         2            0\n",
      "6         1            0\n",
      "7         4            0\n",
      "8         3            0\n",
      "9         3            0\n",
      "10        3            0\n",
      "11        1            0\n",
      "12        2            0\n",
      "13        3            0\n",
      "14        1            0\n",
      "15        3            0\n",
      "16        2            0\n",
      "17        1            0\n",
      "18        2            0\n",
      "19        3            0\n",
      "20        1            0\n",
      "21        5            1\n",
      "22        2            0\n",
      "23        1            0\n",
      "24        3            0\n",
      "25        2            0\n",
      "26        2            0\n",
      "27        4            0\n",
      "28        2            0\n",
      "29        2            0\n"
     ]
    }
   ],
   "source": [
    "# One-hot coding feature: Create a new binary column 'PoorGenHlth'\n",
    "df['PoorGenHlth'] = df['GenHlth'].apply(lambda x: 1 if x == 5 else 0)\n",
    "\n",
    "# Check the first few rows to confirm\n",
    "print(df[['GenHlth', 'PoorGenHlth']].head(30))"
   ]
  },
  {
   "cell_type": "code",
   "execution_count": 26,
   "id": "30406c99-2bfd-4c48-bd26-f5839c68947c",
   "metadata": {},
   "outputs": [
    {
     "name": "stdout",
     "output_type": "stream",
     "text": [
      "PoorGenHlth\n",
      "0    91.784077\n",
      "1     8.215923\n",
      "Name: proportion, dtype: float64\n"
     ]
    }
   ],
   "source": [
    "# Distribution of values in percentages\n",
    "print(df['PoorGenHlth'].value_counts(normalize=True) * 100)"
   ]
  },
  {
   "cell_type": "markdown",
   "id": "0ce77c1d-1ae1-4247-b072-8c58b4a00120",
   "metadata": {},
   "source": [
    "### **PoorMentHlth**"
   ]
  },
  {
   "cell_type": "code",
   "execution_count": 39,
   "id": "fbf2b88c-df5f-4500-99b1-4e84f053b15f",
   "metadata": {},
   "outputs": [
    {
     "name": "stdout",
     "output_type": "stream",
     "text": [
      "MentHlth\n",
      "0     68.028914\n",
      "1      2.901318\n",
      "2      4.621456\n",
      "3      2.782493\n",
      "4      1.387710\n",
      "5      3.563345\n",
      "6      0.407401\n",
      "7      1.167034\n",
      "8      0.280088\n",
      "9      0.039608\n",
      "10     2.721666\n",
      "11     0.011317\n",
      "12     0.183896\n",
      "13     0.021219\n",
      "14     0.499349\n",
      "15     2.499576\n",
      "16     0.039608\n",
      "17     0.025463\n",
      "18     0.059413\n",
      "19     0.009902\n",
      "20     1.591411\n",
      "21     0.118825\n",
      "22     0.031121\n",
      "23     0.018390\n",
      "24     0.014146\n",
      "25     0.601200\n",
      "26     0.024048\n",
      "27     0.024048\n",
      "28     0.140044\n",
      "29     0.074973\n",
      "30     6.111017\n",
      "Name: proportion, dtype: float64\n"
     ]
    }
   ],
   "source": [
    "# Calculate the distribution of 'MentHlth' values in percentages\n",
    "menthlth_distribution = df['MentHlth'].value_counts(normalize=True) * 100\n",
    "\n",
    "# Convert the index to a categorical type (if it's not already) and sort it\n",
    "menthlth_distribution_sorted = menthlth_distribution.sort_index()\n",
    "\n",
    "# Print the sorted distribution\n",
    "print(menthlth_distribution_sorted)"
   ]
  },
  {
   "cell_type": "code",
   "execution_count": 40,
   "id": "9f4fb5d6-0f18-46ad-9db4-994b1381ad1e",
   "metadata": {},
   "outputs": [
    {
     "name": "stdout",
     "output_type": "stream",
     "text": [
      "count    70692.000000\n",
      "mean         3.752037\n",
      "std          8.155627\n",
      "min          0.000000\n",
      "25%          0.000000\n",
      "50%          0.000000\n",
      "75%          2.000000\n",
      "max         30.000000\n",
      "Name: MentHlth, dtype: float64\n",
      "Median of MentHlth: 0.0\n"
     ]
    }
   ],
   "source": [
    "# Describe the 'MentHlth' column statistically\n",
    "menthlth_stats = df['MentHlth'].describe()\n",
    "print(menthlth_stats)\n",
    "\n",
    "# Calculate the median of the 'MentHlth' column\n",
    "median_menthlth = df['MentHlth'].median()\n",
    "print(f\"Median of MentHlth: {median_menthlth}\")"
   ]
  },
  {
   "cell_type": "code",
   "execution_count": 41,
   "id": "26b2253e-2109-4dcb-a9d5-8b855b8a5ac4",
   "metadata": {},
   "outputs": [
    {
     "name": "stdout",
     "output_type": "stream",
     "text": [
      "    MentHlth  PoorMentHlth\n",
      "0          5             1\n",
      "1          0             0\n",
      "2          0             0\n",
      "3          0             0\n",
      "4          0             0\n",
      "5          7             1\n",
      "6          0             0\n",
      "7          0             0\n",
      "8          0             0\n",
      "9          0             0\n",
      "10         0             0\n",
      "11         0             0\n",
      "12         0             0\n",
      "13         3             1\n",
      "14         0             0\n",
      "15         0             0\n",
      "16         0             0\n",
      "17         0             0\n",
      "18         0             0\n",
      "19         0             0\n",
      "20         0             0\n",
      "21         0             0\n",
      "22         0             0\n",
      "23         0             0\n",
      "24         4             1\n",
      "25         2             1\n",
      "26         0             0\n",
      "27         0             0\n",
      "28         2             1\n",
      "29         0             0\n"
     ]
    }
   ],
   "source": [
    "# Create the binary column 'PoorMentHlth'\n",
    "df['PoorMentHlth'] = df['MentHlth'].apply(lambda x: 1 if x > 0 else 0)\n",
    "\n",
    "# Check the first few rows to verify\n",
    "print(df[['MentHlth', 'PoorMentHlth']].head(30))"
   ]
  },
  {
   "cell_type": "code",
   "execution_count": 74,
   "id": "bd80e31e-06cd-4b76-86e7-c3ce67b6f234",
   "metadata": {},
   "outputs": [
    {
     "name": "stdout",
     "output_type": "stream",
     "text": [
      "PoorMentHlth\n",
      "0    48091\n",
      "1    22601\n",
      "Name: count, dtype: int64\n",
      "PoorMentHlth\n",
      "0    68.028914\n",
      "1    31.971086\n",
      "Name: proportion, dtype: float64\n"
     ]
    }
   ],
   "source": [
    "# Check the distribution of the new column\n",
    "print(df['PoorMentHlth'].value_counts())\n",
    "poor_ment_health_dist = df['PoorMentHlth'].value_counts(normalize=True) * 100\n",
    "print(poor_ment_health_dist)"
   ]
  },
  {
   "cell_type": "markdown",
   "id": "04fe3a09-25ec-434e-aa9e-02ec770ada92",
   "metadata": {},
   "source": [
    "### **PoorPhysHealth**"
   ]
  },
  {
   "cell_type": "code",
   "execution_count": 29,
   "id": "0ca0d9a8-d00d-4905-984e-3cb582c1d120",
   "metadata": {},
   "outputs": [
    {
     "name": "stdout",
     "output_type": "stream",
     "text": [
      "PhysHlth\n",
      "0     56.463249\n",
      "1      4.035817\n",
      "2      5.802637\n",
      "3      3.448764\n",
      "4      1.946472\n",
      "5      3.298817\n",
      "6      0.632320\n",
      "7      1.875743\n",
      "8      0.390426\n",
      "9      0.077802\n",
      "10     2.800883\n",
      "11     0.031121\n",
      "12     0.289990\n",
      "13     0.036779\n",
      "14     1.134499\n",
      "15     2.706105\n",
      "16     0.070729\n",
      "17     0.049511\n",
      "18     0.070729\n",
      "19     0.014146\n",
      "20     1.827647\n",
      "21     0.323940\n",
      "22     0.043852\n",
      "23     0.038194\n",
      "24     0.033950\n",
      "25     0.787925\n",
      "26     0.036779\n",
      "27     0.048096\n",
      "28     0.298478\n",
      "29     0.134386\n",
      "30    11.250212\n",
      "Name: proportion, dtype: float64\n"
     ]
    }
   ],
   "source": [
    "# Calculate the distribution of 'MentHlth' values in percentages\n",
    "physhlth_distribution = df['PhysHlth'].value_counts(normalize=True) * 100\n",
    "\n",
    "# Convert the index to a categorical type (if it's not already) and sort it\n",
    "physhlth_distribution_sorted = physhlth_distribution.sort_index()\n",
    "\n",
    "# Print the sorted distribution\n",
    "print(physhlth_distribution_sorted)"
   ]
  },
  {
   "cell_type": "code",
   "execution_count": 30,
   "id": "b6a08342-fb68-4587-8295-d3431feee1ca",
   "metadata": {},
   "outputs": [
    {
     "name": "stdout",
     "output_type": "stream",
     "text": [
      "count    70692.000000\n",
      "mean         5.810417\n",
      "std         10.062261\n",
      "min          0.000000\n",
      "25%          0.000000\n",
      "50%          0.000000\n",
      "75%          6.000000\n",
      "max         30.000000\n",
      "Name: PhysHlth, dtype: float64\n",
      "Median of PhysHlth: 0.0\n"
     ]
    }
   ],
   "source": [
    "# Describe the 'PhysHlth' column statistically\n",
    "physhlth_stats = df['PhysHlth'].describe()\n",
    "print(physhlth_stats)\n",
    "\n",
    "# Calculate the median of the 'PhysHlth' column\n",
    "median_menthlth = df['PhysHlth'].median()\n",
    "print(f\"Median of PhysHlth: {median_menthlth}\")"
   ]
  },
  {
   "cell_type": "code",
   "execution_count": 31,
   "id": "5d49a14e-78b7-415b-962b-537903424251",
   "metadata": {},
   "outputs": [
    {
     "name": "stdout",
     "output_type": "stream",
     "text": [
      "    PhysHlth  PoorPhysHlth\n",
      "0         30             1\n",
      "1          0             0\n",
      "2         10             1\n",
      "3          3             1\n",
      "4          0             0\n",
      "5          0             0\n",
      "6          0             0\n",
      "7          0             0\n",
      "8          0             0\n",
      "9          6             1\n",
      "10         4             1\n",
      "11         0             0\n",
      "12         0             0\n",
      "13         3             1\n",
      "14         0             0\n",
      "15         0             0\n",
      "16         0             0\n",
      "17         0             0\n",
      "18         0             0\n",
      "19        15             1\n",
      "20         0             0\n",
      "21        30             1\n",
      "22         0             0\n",
      "23         0             0\n",
      "24        30             1\n",
      "25         1             1\n",
      "26         3             1\n",
      "27         4             1\n",
      "28         2             1\n",
      "29         0             0\n"
     ]
    }
   ],
   "source": [
    "# Create the binary column 'PoorPhysHlth'\n",
    "df['PoorPhysHlth'] = df['PhysHlth'].apply(lambda x: 1 if x > 0 else 0)\n",
    "\n",
    "# Check the first few rows to verify\n",
    "print(df[['PhysHlth', 'PoorPhysHlth']].head(30))"
   ]
  },
  {
   "cell_type": "code",
   "execution_count": 32,
   "id": "7737dfe8-80ad-4bad-97d6-85911ac477b2",
   "metadata": {},
   "outputs": [
    {
     "name": "stdout",
     "output_type": "stream",
     "text": [
      "PoorPhysHlth\n",
      "0    39915\n",
      "1    30777\n",
      "Name: count, dtype: int64\n",
      "PoorPhysHlth\n",
      "0    56.463249\n",
      "1    43.536751\n",
      "Name: proportion, dtype: float64\n"
     ]
    }
   ],
   "source": [
    "# Check the distribution of the new column\n",
    "print(df['PoorPhysHlth'].value_counts())\n",
    "poor_phys_health_dist = df['PoorPhysHlth'].value_counts(normalize=True) * 100\n",
    "print(poor_phys_health_dist)"
   ]
  },
  {
   "cell_type": "markdown",
   "id": "ac194b6b-eca6-4948-8cd5-f418b7f9df03",
   "metadata": {},
   "source": [
    "### **HighAge**"
   ]
  },
  {
   "cell_type": "code",
   "execution_count": 42,
   "id": "3afca2f0-f088-40f9-9560-e54f165f01c6",
   "metadata": {},
   "outputs": [
    {
     "name": "stdout",
     "output_type": "stream",
     "text": [
      "Age_Groups\n",
      "18-24                              7.967314\n",
      "25-29                             10.028653\n",
      "30-34                             15.324549\n",
      "35-39                             22.413176\n",
      "40-44                             29.857955\n",
      "45-49                             37.478485\n",
      "50-54                             44.935972\n",
      "55-59                             49.552482\n",
      "60-64                             56.695016\n",
      "65-69                             60.408990\n",
      "70-74                             63.910990\n",
      "75-79                             63.088617\n",
      "80-99                             59.141172\n",
      "Don’t know / Refused / Missing          NaN\n",
      "Name: Diabetes_binary, dtype: float64\n"
     ]
    }
   ],
   "source": [
    "# Define the mapping for Age groups\n",
    "age_mapping = {\n",
    "    1: '18-24', 2: '25-29', 3: '30-34', 4: '35-39', 5: '40-44', \n",
    "    6: '45-49', 7: '50-54', 8: '55-59', 9: '60-64', 10: '65-69', \n",
    "    11: '70-74', 12: '75-79', 13: '80-99', 14: 'Don’t know / Refused / Missing'\n",
    "}\n",
    "\n",
    "# Create a new column 'Age_Groups' for mapping age values\n",
    "df['Age_Groups'] = df['Age'].map(age_mapping)\n",
    "\n",
    "# Calculate the share of 'yes' (1) for Diabetes_binary in each age group\n",
    "diabetes_shares = df.groupby('Age_Groups')['Diabetes_binary'].mean() * 100\n",
    "\n",
    "# Sort by ascending order of age groups\n",
    "diabetes_shares = diabetes_shares.reindex(['18-24', '25-29', '30-34', '35-39', '40-44', \n",
    "                                           '45-49', '50-54', '55-59', '60-64', '65-69', \n",
    "                                           '70-74', '75-79', '80-99', 'Don’t know / Refused / Missing'])\n",
    "\n",
    "# Display the shares of 'yes' (1) in percentages\n",
    "print(diabetes_shares)"
   ]
  },
  {
   "cell_type": "code",
   "execution_count": 43,
   "id": "644c229e-6a73-4abb-8097-67653e70bb42",
   "metadata": {},
   "outputs": [
    {
     "name": "stdout",
     "output_type": "stream",
     "text": [
      "    Age  HighAge\n",
      "0     4        0\n",
      "1    12        1\n",
      "2    13        1\n",
      "3    11        1\n",
      "4     8        0\n",
      "5     1        0\n",
      "6    13        1\n",
      "7     6        0\n",
      "8     3        0\n",
      "9     6        0\n",
      "10   12        1\n",
      "11    4        0\n",
      "12    7        0\n",
      "13   10        1\n",
      "14   10        1\n",
      "15   10        1\n",
      "16    9        1\n",
      "17   10        1\n",
      "18    8        0\n",
      "19    7        0\n",
      "20    6        0\n",
      "21   10        1\n",
      "22    8        0\n",
      "23    9        1\n",
      "24   10        1\n",
      "25    8        0\n",
      "26   12        1\n",
      "27    9        1\n",
      "28    6        0\n",
      "29    7        0\n"
     ]
    }
   ],
   "source": [
    "# Create the 'HighAge' column based on age group mapping\n",
    "df['HighAge'] = df['Age'].apply(lambda x: 1 if x >= 9 else 0)  # Age groups 9 and above are 60 years and older\n",
    "\n",
    "# Check the new column\n",
    "print(df[['Age', 'HighAge']].head(30))"
   ]
  },
  {
   "cell_type": "code",
   "execution_count": 44,
   "id": "6a86aa1e-ff99-4650-a340-fcf48ec4d8b0",
   "metadata": {},
   "outputs": [
    {
     "name": "stdout",
     "output_type": "stream",
     "text": [
      "Distribution by Count:\n",
      "HighAge\n",
      "1    39832\n",
      "0    30860\n",
      "Name: count, dtype: int64\n",
      "\n",
      "Distribution by Shares (%):\n",
      "HighAge\n",
      "1    56.345838\n",
      "0    43.654162\n",
      "Name: proportion, dtype: float64\n"
     ]
    }
   ],
   "source": [
    "# Calculate the distribution by count\n",
    "age_distribution_count = df['HighAge'].value_counts()\n",
    "\n",
    "# Calculate the distribution by shares (percentage)\n",
    "age_distribution_share = df['HighAge'].value_counts(normalize=True) * 100\n",
    "\n",
    "# Display the results\n",
    "print(\"Distribution by Count:\")\n",
    "print(age_distribution_count)\n",
    "\n",
    "print(\"\\nDistribution by Shares (%):\")\n",
    "print(age_distribution_share)"
   ]
  },
  {
   "cell_type": "markdown",
   "id": "0b146de2-630b-4ae3-9d2b-0cbc232fa0a6",
   "metadata": {},
   "source": [
    "### **High_School_Education & College_Education**"
   ]
  },
  {
   "cell_type": "code",
   "execution_count": 11,
   "id": "fac9962a-3a72-47e1-ab5b-549384d78ce3",
   "metadata": {},
   "outputs": [
    {
     "name": "stdout",
     "output_type": "stream",
     "text": [
      "   Education  HSchoolEducation\n",
      "0          6                 1\n",
      "1          6                 1\n",
      "2          6                 1\n",
      "3          6                 1\n",
      "4          5                 1\n",
      "5          4                 1\n",
      "6          5                 1\n",
      "7          4                 1\n",
      "8          6                 1\n",
      "9          4                 1\n"
     ]
    }
   ],
   "source": [
    "# Define the mapping for Higher Education based on Education categories\n",
    "higher_education_mapping = {\n",
    "    1: 'No',  # Didn't graduate high school\n",
    "    2: 'No',  # Didn't graduate high school\n",
    "    3: 'No',  # Didn't graduate high school\n",
    "    4: 'Yes', # Graduated high school\n",
    "    5: 'Yes', # Attended college or technical school\n",
    "    6: 'Yes'  # Graduated college or technical school\n",
    "}\n",
    "\n",
    "# Map the Education column to Higher Education binary values\n",
    "df['HSchoolEducation'] = df['Education'].map(higher_education_mapping)\n",
    "\n",
    "# Convert to binary: 'Yes' to 1 and 'No' to 0\n",
    "df['HSchoolEducation'] = df['HSchoolEducation'].map({'Yes': 1, 'No': 0})\n",
    "# Display the first 10 rows to check the new column\n",
    "print(df[['Education', 'HSchoolEducation']].head(10))"
   ]
  },
  {
   "cell_type": "code",
   "execution_count": 12,
   "id": "bd3381fa-a34d-430a-a4fb-251b4b65d9dc",
   "metadata": {},
   "outputs": [
    {
     "name": "stdout",
     "output_type": "stream",
     "text": [
      "   Education  CollegeEducation\n",
      "0          6                 1\n",
      "1          6                 1\n",
      "2          6                 1\n",
      "3          6                 1\n",
      "4          5                 0\n",
      "5          4                 0\n",
      "6          5                 0\n",
      "7          4                 0\n",
      "8          6                 1\n",
      "9          4                 0\n"
     ]
    }
   ],
   "source": [
    "# Create the 'College_education' column\n",
    "df['CollegeEducation'] = df['Education'].apply(lambda x: 1 if x >= 6 else 0)  # 6 and above means graduated college or technical school\n",
    "\n",
    "# Display the first 10 rows of the DataFrame\n",
    "print(df[['Education', 'CollegeEducation']].head(10))"
   ]
  },
  {
   "cell_type": "code",
   "execution_count": 13,
   "id": "b4694d1c-931e-49ac-818f-b2afc5dad819",
   "metadata": {},
   "outputs": [
    {
     "name": "stdout",
     "output_type": "stream",
     "text": [
      "\n",
      "High School Education Distribution:\n",
      " HSchoolEducation\n",
      "1    92.687999\n",
      "0     7.312001\n",
      "Name: proportion, dtype: float64\n",
      "\n",
      "College Education Distribution:\n",
      " CollegeEducation\n",
      "0    63.19244\n",
      "1    36.80756\n",
      "Name: proportion, dtype: float64\n"
     ]
    }
   ],
   "source": [
    "# Display the distribution of the new columns\n",
    "high_school_distribution = df['HSchoolEducation'].value_counts(normalize=True) * 100\n",
    "college_distribution = df['CollegeEducation'].value_counts(normalize=True) * 100\n",
    "\n",
    "print(\"\\nHigh School Education Distribution:\\n\", high_school_distribution)\n",
    "print(\"\\nCollege Education Distribution:\\n\", college_distribution)"
   ]
  },
  {
   "cell_type": "markdown",
   "id": "652d318b-5051-4a40-a25b-25982e22456b",
   "metadata": {},
   "source": [
    "### **LowIncome**"
   ]
  },
  {
   "cell_type": "code",
   "execution_count": 49,
   "id": "cb1f4003-2884-47c7-8c08-ee30f53ddeba",
   "metadata": {},
   "outputs": [
    {
     "name": "stdout",
     "output_type": "stream",
     "text": [
      "   Income  LowIncome\n",
      "0       8          0\n",
      "1       8          0\n",
      "2       8          0\n",
      "3       8          0\n",
      "4       8          0\n",
      "5       7          0\n",
      "6       6          0\n",
      "7       3          1\n",
      "8       8          0\n",
      "9       4          1\n"
     ]
    }
   ],
   "source": [
    "# Define the mapping for Income categories to binary LowIncome\n",
    "income_mapping = {\n",
    "    1: 1,  # Income less than $15,000 (Low Income)\n",
    "    2: 1,  # Income less than $15,000 (Low Income)\n",
    "    3: 1,  # $15,000 ≤ Income < $25,000 (Low Income)\n",
    "    4: 1,  # $15,000 ≤ Income < $25,000 (Low Income)\n",
    "    5: 0,  # $25,000 ≤ Income < $35,000 (Not Low Income)\n",
    "    6: 0,  # $35,000 to less than $50,000 (Not Low Income)\n",
    "    7: 0,  # Income ≥ $50,000 (Not Low Income)\n",
    "    8: 0,  # Income ≥ $50,000 (Not Low Income)\n",
    "    9: None  # Don’t know / Not sure / Missing Respondents\n",
    "}\n",
    "\n",
    "# Map the 'Income' values to the new 'LowIncome' binary column\n",
    "df['LowIncome'] = df['Income'].map(income_mapping)\n",
    "\n",
    "# Convert the 'LowIncome' column to integers (0 and 1), replacing None with np.nan if needed\n",
    "df['LowIncome'] = df['LowIncome'].astype('Int64')  # Use 'Int64' to allow for NaN\n",
    "\n",
    "# Display the first 10 rows to check the new column\n",
    "print(df[['Income', 'LowIncome']].head(10))"
   ]
  },
  {
   "cell_type": "markdown",
   "id": "01bbebff-3867-4f9d-8d8d-02beac861d04",
   "metadata": {},
   "source": [
    "### **New Dataset**"
   ]
  },
  {
   "cell_type": "code",
   "execution_count": 50,
   "id": "b4c006cc-abd5-452b-b4ef-47cd99f61fb7",
   "metadata": {},
   "outputs": [],
   "source": [
    "# Saving newly created features to a new csv file\n",
    "df.to_csv('diabetes_binary_processed.csv', index=False)"
   ]
  },
  {
   "cell_type": "code",
   "execution_count": null,
   "id": "80286375-f0d9-48b7-9b60-a88ba7f6fd27",
   "metadata": {},
   "outputs": [],
   "source": []
  },
  {
   "cell_type": "code",
   "execution_count": null,
   "id": "1bda5905-6fe3-46ac-9555-2e1f22521b3c",
   "metadata": {},
   "outputs": [],
   "source": []
  },
  {
   "cell_type": "code",
   "execution_count": 51,
   "id": "6ddb1d59-cdd6-49db-8b7d-feaaa97adafc",
   "metadata": {},
   "outputs": [
    {
     "name": "stdout",
     "output_type": "stream",
     "text": [
      "Index(['Diabetes_binary', 'HighBP', 'HighChol', 'CholCheck', 'BMI', 'Smoker',\n",
      "       'Stroke', 'HeartDiseaseorAttack', 'PhysActivity', 'Fruits', 'Veggies',\n",
      "       'HvyAlcoholConsump', 'AnyHealthcare', 'NoDocbcCost', 'GenHlth',\n",
      "       'MentHlth', 'PhysHlth', 'DiffWalk', 'Sex', 'Age', 'Education', 'Income',\n",
      "       'High_School_Education', 'College_Education', 'HSchoolEducation',\n",
      "       'CollegeEducation', 'PoorGenHlth', 'PoorMentHlth', 'PoorPhysHlth',\n",
      "       'HighBMI', 'Age_Groups', 'HighAge', 'LowIncome'],\n",
      "      dtype='object')\n"
     ]
    }
   ],
   "source": [
    "print(df.columns)"
   ]
  },
  {
   "cell_type": "code",
   "execution_count": 53,
   "id": "b293dd74-59e5-4b25-b239-30e655341554",
   "metadata": {},
   "outputs": [
    {
     "data": {
      "image/png": "[encoded data removed]",
      "text/plain": [
       "<Figure size 1000x700 with 1 Axes>"
      ]
     },
     "metadata": {},
     "output_type": "display_data"
    }
   ],
   "source": [
    "# Correct list of binary columns\n",
    "binary_columns = [ \n",
    "    'Diabetes_binary', 'Sex', 'PoorGenHlth', 'PoorPhysHlth', 'PoorMentHlth', 'AnyHealthcare', 'HighBMI', 'HighBP', 'HighChol', \n",
    "    'CholCheck', 'Smoker', 'Stroke', 'HeartDiseaseorAttack', 'PhysActivity', 'DiffWalk', 'Fruits', 'Veggies', \n",
    "    'HvyAlcoholConsump', 'HighAge', 'LowIncome', 'NoDocbcCost', 'HSchoolEducation', 'CollegeEducation'  # Corrected column names\n",
    "]\n",
    "\n",
    "# Create a DataFrame to store percentages for plotting\n",
    "binary_percentages = pd.DataFrame()\n",
    "\n",
    "# Calculate percentages for each binary column\n",
    "for col in binary_columns:\n",
    "    counts = df[col].value_counts(normalize=True) * 100  # Get percentages\n",
    "    binary_percentages[col] = counts\n",
    "\n",
    "# Transpose the DataFrame to make the columns the index (for easier plotting)\n",
    "binary_percentages = binary_percentages.T\n",
    "\n",
    "# Plot stacked bar chart\n",
    "ax = binary_percentages.plot(kind='bar', stacked=True, figsize=(10, 7), color=['lightblue', 'lightcoral'], width=0.6)\n",
    "\n",
    "# Add labels inside the bars with smaller font\n",
    "for container in ax.containers:\n",
    "    ax.bar_label(container, label_type='center', fmt='%.1f%%', fontsize=8, color='black')\n",
    "\n",
    "# Move the legend to the right\n",
    "plt.legend(['No (0)', 'Yes (1)'], loc='center left', bbox_to_anchor=(1, 0.5), fontsize=10)\n",
    "\n",
    "# Add labels and title\n",
    "plt.title('Distribution of Yes/No Responses for Binary Variables', fontsize=14)\n",
    "plt.ylabel('Percentage', fontsize=12)\n",
    "plt.xticks(rotation=45, ha='right', fontsize=10)\n",
    "plt.yticks(fontsize=10)\n",
    "\n",
    "# Adjust the layout to avoid overlapping\n",
    "plt.tight_layout()\n",
    "\n",
    "# Show the plot\n",
    "plt.show()"
   ]
  },
  {
   "cell_type": "code",
   "execution_count": 3,
   "id": "de1e8b9e-1985-4e6f-848c-f4b2fa44faf5",
   "metadata": {},
   "outputs": [
    {
     "name": "stdout",
     "output_type": "stream",
     "text": [
      "New dataset saved as 'diabetes_ONLY_binary.csv'\n"
     ]
    }
   ],
   "source": [
    "# Load the original dataset\n",
    "df = pd.read_csv('diabetes_binary_processed.csv')\n",
    "\n",
    "# Specify the binary columns you want to keep\n",
    "binary_columns = [\n",
    "    'Diabetes_binary', 'Sex', 'PoorGenHlth', 'PoorPhysHlth', 'PoorMentHlth', \n",
    "    'AnyHealthcare', 'HighBMI', 'HighBP', 'HighChol', 'CholCheck', 'Smoker', \n",
    "    'Stroke', 'HeartDiseaseorAttack', 'PhysActivity', 'DiffWalk', 'Fruits', \n",
    "    'Veggies', 'HvyAlcoholConsump', 'HighAge', 'LowIncome', 'NoDocbcCost', \n",
    "    'HSchoolEducation', 'CollegeEducation'\n",
    "]\n",
    "\n",
    "# Create a new dataset with only the binary columns\n",
    "df_binary = df[binary_columns]\n",
    "\n",
    "# Save the new dataset to a CSV file\n",
    "df_binary.to_csv('diabetes_ONLY_binary.csv', index=False)\n",
    "\n",
    "print(\"New dataset saved as 'diabetes_ONLY_binary.csv'\")"
   ]
  },
  {
   "cell_type": "code",
   "execution_count": 60,
   "id": "8071d87d-55a4-498b-acbd-83043985054b",
   "metadata": {},
   "outputs": [
    {
     "name": "stdout",
     "output_type": "stream",
     "text": [
      "Index(['Diabetes_binary', 'HighBP', 'HighChol', 'CholCheck', 'BMI', 'Smoker',\n",
      "       'Stroke', 'HeartDiseaseorAttack', 'PhysActivity', 'Fruits', 'Veggies',\n",
      "       'HvyAlcoholConsump', 'AnyHealthcare', 'NoDocbcCost', 'GenHlth',\n",
      "       'MentHlth', 'PhysHlth', 'DiffWalk', 'Sex', 'Age', 'Education', 'Income',\n",
      "       'High_School_Education', 'College_Education', 'HSchoolEducation',\n",
      "       'CollegeEducation', 'PoorGenHlth', 'PoorMentHlth', 'PoorPhysHlth',\n",
      "       'HighBMI', 'Age_Groups', 'HighAge', 'LowIncome'],\n",
      "      dtype='object')\n"
     ]
    }
   ],
   "source": [
    "print(df.columns)"
   ]
  },
  {
   "cell_type": "code",
   "execution_count": 7,
   "id": "4d416268-c993-4cb8-a227-c5b681f848ec",
   "metadata": {},
   "outputs": [
    {
     "name": "stdout",
     "output_type": "stream",
     "text": [
      "New dataset saved as 'diabetes_ONLY_binary.csv' with 'Diabetes_prevalence' column\n"
     ]
    }
   ],
   "source": [
    "# Load the original dataset\n",
    "df = pd.read_csv('diabetes_binary_processed.csv')\n",
    "\n",
    "# Specify the binary columns you want to keep\n",
    "binary_columns = [\n",
    "    'Diabetes_binary', 'Sex', 'PoorGenHlth', 'PoorPhysHlth', 'PoorMentHlth', \n",
    "    'AnyHealthcare', 'HighBMI', 'HighBP', 'HighChol', 'CholCheck', 'Smoker', \n",
    "    'Stroke', 'HeartDiseaseorAttack', 'PhysActivity', 'DiffWalk', 'Fruits', \n",
    "    'Veggies', 'HvyAlcoholConsump', 'HighAge', 'LowIncome', 'NoDocbcCost', \n",
    "    'HSchoolEducation', 'CollegeEducation'\n",
    "]\n",
    "\n",
    "# Create a new dataset with only the binary columns and ensure 'Age_Groups' is excluded\n",
    "df_binary = df[binary_columns].copy()\n",
    "\n",
    "# Rename the 'Diabetes_binary' column to 'Diabetes_prevalence'\n",
    "df_binary = df_binary.rename(columns={'Diabetes_binary': 'Diabetes_prevalence'})\n",
    "\n",
    "# Save the new dataset to a CSV file\n",
    "df_binary.to_csv('diabetes_ONLY_binary.csv', index=False)\n",
    "\n",
    "print(\"New dataset saved as 'diabetes_ONLY_binary.csv' with 'Diabetes_prevalence' column\")"
   ]
  }
 ],
 "metadata": {
  "kernelspec": {
   "display_name": "Python 3 (ipykernel)",
   "language": "python",
   "name": "python3"
  },
  "language_info": {
   "codemirror_mode": {
    "name": "ipython",
    "version": 3
   },
   "file_extension": ".py",
   "mimetype": "text/x-python",
   "name": "python",
   "nbconvert_exporter": "python",
   "pygments_lexer": "ipython3",
   "version": "3.12.2"
  }
 },
 "nbformat": 4,
 "nbformat_minor": 5
}
