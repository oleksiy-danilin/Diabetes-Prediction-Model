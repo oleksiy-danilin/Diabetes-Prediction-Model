{
 "cells": [
  {
   "cell_type": "markdown",
   "id": "21e6e9d7-0275-4e1c-977d-8bcd1ee4210d",
   "metadata": {},
   "source": [
    "# **DIABETES DATASET: K-PROTOTYPES CLUSTERING**"
   ]
  },
  {
   "cell_type": "markdown",
   "id": "bbd7414b-a43e-4577-b658-29099c1bfa43",
   "metadata": {},
   "source": [
    "<span style=\"font-size: 20px;\">Created by *Oleksiy Danilin*</span>"
   ]
  },
  {
   "cell_type": "markdown",
   "id": "a019907e-df8b-4436-90ce-ada90f249386",
   "metadata": {},
   "source": [
    "## **Mixed Model (Patients and Non-Patients)** "
   ]
  },
  {
   "cell_type": "markdown",
   "id": "86aeaa5a-7bc7-4daa-909d-e56528af43de",
   "metadata": {},
   "source": [
    "### **Model** "
   ]
  },
  {
   "cell_type": "markdown",
   "id": "2180f332-69ed-426e-b14e-16a4a14b4984",
   "metadata": {},
   "source": [
    "<span style=\"font-size: 16px;\">In this book, we run a k-prototypes model, based on the original dataset with mixed data types."
   ]
  },
  {
   "cell_type": "code",
   "execution_count": 7,
   "id": "9ce16d7b-2425-4df7-baf7-33bb6a608ed1",
   "metadata": {},
   "outputs": [
    {
     "name": "stdout",
     "output_type": "stream",
     "text": [
      "Requirement already satisfied: kmodes in /Library/Frameworks/Python.framework/Versions/3.12/lib/python3.12/site-packages (0.12.2)\n",
      "Requirement already satisfied: numpy>=1.10.4 in /Library/Frameworks/Python.framework/Versions/3.12/lib/python3.12/site-packages (from kmodes) (1.26.4)\n",
      "Requirement already satisfied: scikit-learn>=0.22.0 in /Library/Frameworks/Python.framework/Versions/3.12/lib/python3.12/site-packages (from kmodes) (1.5.1)\n",
      "Requirement already satisfied: scipy>=0.13.3 in /Library/Frameworks/Python.framework/Versions/3.12/lib/python3.12/site-packages (from kmodes) (1.14.0)\n",
      "Requirement already satisfied: joblib>=0.11 in /Library/Frameworks/Python.framework/Versions/3.12/lib/python3.12/site-packages (from kmodes) (1.4.2)\n",
      "Requirement already satisfied: threadpoolctl>=3.1.0 in /Library/Frameworks/Python.framework/Versions/3.12/lib/python3.12/site-packages (from scikit-learn>=0.22.0->kmodes) (3.5.0)\n",
      "Note: you may need to restart the kernel to use updated packages.\n"
     ]
    }
   ],
   "source": [
    "pip install kmodes"
   ]
  },
  {
   "cell_type": "code",
   "execution_count": 8,
   "id": "14a225ea-bd37-4aed-87ff-8098bd1fc090",
   "metadata": {},
   "outputs": [
    {
     "name": "stdout",
     "output_type": "stream",
     "text": [
      "Diabetes_binary         int64\n",
      "HighBP                  int64\n",
      "HighChol                int64\n",
      "CholCheck               int64\n",
      "BMI                     int64\n",
      "Smoker                  int64\n",
      "Stroke                  int64\n",
      "HeartDiseaseorAttack    int64\n",
      "PhysActivity            int64\n",
      "Fruits                  int64\n",
      "Veggies                 int64\n",
      "HvyAlcoholConsump       int64\n",
      "AnyHealthcare           int64\n",
      "NoDocbcCost             int64\n",
      "GenHlth                 int64\n",
      "MentHlth                int64\n",
      "PhysHlth                int64\n",
      "DiffWalk                int64\n",
      "Sex                     int64\n",
      "Age                     int64\n",
      "Education               int64\n",
      "Income                  int64\n",
      "dtype: object\n"
     ]
    }
   ],
   "source": [
    "import pandas as pd\n",
    "\n",
    "# Load the dataset\n",
    "df = pd.read_csv('Diabetes_binary.csv')\n",
    "\n",
    "# Check the data types to separate categorical and numerical features\n",
    "print(df.dtypes)"
   ]
  },
  {
   "cell_type": "code",
   "execution_count": 9,
   "id": "a6031590-304b-467c-abe0-8727aaacbdd0",
   "metadata": {},
   "outputs": [
    {
     "name": "stdout",
     "output_type": "stream",
     "text": [
      "Categorical data shape: (70692, 18)\n",
      "Numerical data shape: (70692, 3)\n",
      "\n",
      "First few rows of categorical data:\n",
      "    HighBP  HighChol  CholCheck  Smoker  Stroke  HeartDiseaseorAttack  \\\n",
      "0       1         0          1       0       0                     0   \n",
      "1       1         1          1       1       1                     0   \n",
      "2       0         0          1       0       0                     0   \n",
      "3       1         1          1       1       0                     0   \n",
      "4       0         0          1       1       0                     0   \n",
      "\n",
      "   PhysActivity  Fruits  Veggies  HvyAlcoholConsump  AnyHealthcare  \\\n",
      "0             1       0        1                  0              1   \n",
      "1             0       1        0                  0              1   \n",
      "2             1       1        1                  0              1   \n",
      "3             1       1        1                  0              1   \n",
      "4             1       1        1                  0              1   \n",
      "\n",
      "   NoDocbcCost  GenHlth  DiffWalk  Sex  Age  Education  Income  \n",
      "0            0        3         0    1    4          6       8  \n",
      "1            0        3         0    1   12          6       8  \n",
      "2            0        1         0    1   13          6       8  \n",
      "3            0        3         0    1   11          6       8  \n",
      "4            0        2         0    0    8          5       8  \n",
      "\n",
      "First few rows of numerical data:\n",
      "    BMI  MentHlth  PhysHlth\n",
      "0   26         5        30\n",
      "1   26         0         0\n",
      "2   26         0        10\n",
      "3   28         0         3\n",
      "4   29         0         0\n"
     ]
    }
   ],
   "source": [
    "# Assuming the columns to be categorized based on the dataset info\n",
    "categorical_columns = ['HighBP', 'HighChol', 'CholCheck', 'Smoker', 'Stroke', \n",
    "                       'HeartDiseaseorAttack', 'PhysActivity', 'Fruits', \n",
    "                       'Veggies', 'HvyAlcoholConsump', 'AnyHealthcare', \n",
    "                       'NoDocbcCost', 'GenHlth', 'DiffWalk', 'Sex', 'Age', \n",
    "                       'Education', 'Income']\n",
    "\n",
    "numerical_columns = ['BMI', 'MentHlth', 'PhysHlth']\n",
    "\n",
    "# Separate the categorical and numerical data\n",
    "categorical_data = df[categorical_columns]\n",
    "numerical_data = df[numerical_columns]\n",
    "\n",
    "# Print shapes and first few rows of each DataFrame\n",
    "print(\"Categorical data shape:\", categorical_data.shape)\n",
    "print(\"Numerical data shape:\", numerical_data.shape)\n",
    "\n",
    "print(\"\\nFirst few rows of categorical data:\\n\", categorical_data.head())\n",
    "print(\"\\nFirst few rows of numerical data:\\n\", numerical_data.head())"
   ]
  },
  {
   "cell_type": "code",
   "execution_count": 10,
   "id": "d414ccc1-57c3-4117-b660-e6e7f009816e",
   "metadata": {},
   "outputs": [
    {
     "name": "stdout",
     "output_type": "stream",
     "text": [
      "Categorical data before encoding:\n",
      "    HighBP  HighChol  CholCheck  Smoker  Stroke  HeartDiseaseorAttack  \\\n",
      "0       1         0          1       0       0                     0   \n",
      "1       1         1          1       1       1                     0   \n",
      "2       0         0          1       0       0                     0   \n",
      "3       1         1          1       1       0                     0   \n",
      "4       0         0          1       1       0                     0   \n",
      "\n",
      "   PhysActivity  Fruits  Veggies  HvyAlcoholConsump  AnyHealthcare  \\\n",
      "0             1       0        1                  0              1   \n",
      "1             0       1        0                  0              1   \n",
      "2             1       1        1                  0              1   \n",
      "3             1       1        1                  0              1   \n",
      "4             1       1        1                  0              1   \n",
      "\n",
      "   NoDocbcCost  GenHlth  DiffWalk  Sex  Age  Education  Income  \n",
      "0            0        3         0    1    4          6       8  \n",
      "1            0        3         0    1   12          6       8  \n",
      "2            0        1         0    1   13          6       8  \n",
      "3            0        3         0    1   11          6       8  \n",
      "4            0        2         0    0    8          5       8  \n",
      "\n",
      "Categorical data after encoding:\n",
      "    HighBP  HighChol  CholCheck  Smoker  Stroke  HeartDiseaseorAttack  \\\n",
      "0       1         0          1       0       0                     0   \n",
      "1       1         1          1       1       1                     0   \n",
      "2       0         0          1       0       0                     0   \n",
      "3       1         1          1       1       0                     0   \n",
      "4       0         0          1       1       0                     0   \n",
      "\n",
      "   PhysActivity  Fruits  Veggies  HvyAlcoholConsump  AnyHealthcare  \\\n",
      "0             1       0        1                  0              1   \n",
      "1             0       1        0                  0              1   \n",
      "2             1       1        1                  0              1   \n",
      "3             1       1        1                  0              1   \n",
      "4             1       1        1                  0              1   \n",
      "\n",
      "   NoDocbcCost  GenHlth  DiffWalk  Sex  Age  Education  Income  \n",
      "0            0        2         0    1    3          5       7  \n",
      "1            0        2         0    1   11          5       7  \n",
      "2            0        0         0    1   12          5       7  \n",
      "3            0        2         0    1   10          5       7  \n",
      "4            0        1         0    0    7          4       7  \n"
     ]
    }
   ],
   "source": [
    "from sklearn.preprocessing import LabelEncoder\n",
    "\n",
    "# Print first few rows before encoding\n",
    "print(\"Categorical data before encoding:\\n\", categorical_data.head())\n",
    "\n",
    "# Apply Label Encoding to categorical columns using .loc[]\n",
    "label_encoders = {}\n",
    "for col in categorical_data.columns:\n",
    "    le = LabelEncoder()\n",
    "    categorical_data.loc[:, col] = le.fit_transform(categorical_data[col])  # Use .loc[] to modify the column\n",
    "    label_encoders[col] = le  # Store encoders to reverse the transformation later, if needed\n",
    "\n",
    "# Print first few rows after encoding\n",
    "print(\"\\nCategorical data after encoding:\\n\", categorical_data.head())"
   ]
  },
  {
   "cell_type": "code",
   "execution_count": 11,
   "id": "af746ea7-1aac-4e29-a6d8-8891e8afd700",
   "metadata": {},
   "outputs": [
    {
     "name": "stdout",
     "output_type": "stream",
     "text": [
      "Combined data shape: (70692, 21)\n",
      "First few rows of combined data:\n",
      " [[26  5 30  1  0  1  0  0  0  1  0  1  0  1  0  2  0  1  3  5  7]\n",
      " [26  0  0  1  1  1  1  1  0  0  1  0  0  1  0  2  0  1 11  5  7]\n",
      " [26  0 10  0  0  1  0  0  0  1  1  1  0  1  0  0  0  1 12  5  7]\n",
      " [28  0  3  1  1  1  1  0  0  1  1  1  0  1  0  2  0  1 10  5  7]\n",
      " [29  0  0  0  0  1  1  0  0  1  1  1  0  1  0  1  0  0  7  4  7]]\n"
     ]
    }
   ],
   "source": [
    "import numpy as np\n",
    "\n",
    "# Combine the two dataframes\n",
    "combined_data = np.concatenate([numerical_data, categorical_data], axis=1)\n",
    "\n",
    "# Print the shape of the combined data\n",
    "print(\"Combined data shape:\", combined_data.shape)\n",
    "\n",
    "# Print the first few rows of the combined data\n",
    "print(\"First few rows of combined data:\\n\", combined_data[:5])"
   ]
  },
  {
   "cell_type": "code",
   "execution_count": 12,
   "id": "b982fed2-efc4-4bfd-895c-e36e41d8f905",
   "metadata": {},
   "outputs": [
    {
     "name": "stdout",
     "output_type": "stream",
     "text": [
      "Combined data shape: (70692, 21)\n",
      "First few rows of combined_data:\n",
      " [[26  5 30  1  0  1  0  0  0  1  0  1  0  1  0  2  0  1  3  5  7]\n",
      " [26  0  0  1  1  1  1  1  0  0  1  0  0  1  0  2  0  1 11  5  7]\n",
      " [26  0 10  0  0  1  0  0  0  1  1  1  0  1  0  0  0  1 12  5  7]\n",
      " [28  0  3  1  1  1  1  0  0  1  1  1  0  1  0  2  0  1 10  5  7]\n",
      " [29  0  0  0  0  1  1  0  0  1  1  1  0  1  0  1  0  0  7  4  7]]\n",
      "Cluster labels: [0 2 2 ... 2 2 2]\n",
      "Number of clusters: 70692, Number of rows in df: 70692\n",
      "DataFrame with clusters:\n",
      "    Diabetes_binary  HighBP  HighChol  CholCheck  BMI  Smoker  Stroke  \\\n",
      "0                0       1         0          1   26       0       0   \n",
      "1                0       1         1          1   26       1       1   \n",
      "2                0       0         0          1   26       0       0   \n",
      "3                0       1         1          1   28       1       0   \n",
      "4                0       0         0          1   29       1       0   \n",
      "\n",
      "   HeartDiseaseorAttack  PhysActivity  Fruits  ...  NoDocbcCost  GenHlth  \\\n",
      "0                     0             1       0  ...            0        3   \n",
      "1                     0             0       1  ...            0        3   \n",
      "2                     0             1       1  ...            0        1   \n",
      "3                     0             1       1  ...            0        3   \n",
      "4                     0             1       1  ...            0        2   \n",
      "\n",
      "   MentHlth  PhysHlth  DiffWalk  Sex  Age  Education  Income  Cluster  \n",
      "0         5        30         0    1    4          6       8        0  \n",
      "1         0         0         0    1   12          6       8        2  \n",
      "2         0        10         0    1   13          6       8        2  \n",
      "3         0         3         0    1   11          6       8        2  \n",
      "4         0         0         0    0    8          5       8        2  \n",
      "\n",
      "[5 rows x 23 columns]\n",
      "         Diabetes_binary    HighBP  HighChol  CholCheck        BMI    Smoker  \\\n",
      "Cluster                                                                        \n",
      "0               0.700882  0.733054  0.648698   0.987196  31.965784  0.576393   \n",
      "1               0.637216  0.666369  0.647925   0.972631  32.058159  0.607467   \n",
      "2               0.448980  0.521975  0.489767   0.973553  29.227856  0.441829   \n",
      "\n",
      "           Stroke  HeartDiseaseorAttack  PhysActivity    Fruits  ...  \\\n",
      "Cluster                                                          ...   \n",
      "0        0.129869              0.285668      0.505810  0.586723  ...   \n",
      "1        0.123159              0.228321      0.538004  0.533244  ...   \n",
      "2        0.043164              0.114476      0.756854  0.625716  ...   \n",
      "\n",
      "         AnyHealthcare  NoDocbcCost   GenHlth   MentHlth   PhysHlth  DiffWalk  \\\n",
      "Cluster                                                                         \n",
      "0             0.962019     0.148053  3.909727   2.632559  25.276092  0.638046   \n",
      "1             0.927413     0.243344  3.808716  26.552134  16.468690  0.559423   \n",
      "2             0.957147     0.066337  2.535272   1.138765   1.190947  0.149520   \n",
      "\n",
      "              Sex       Age  Education    Income  \n",
      "Cluster                                           \n",
      "0        0.436626  9.380783   4.635356  4.748655  \n",
      "1        0.358768  8.011304   4.588725  4.370519  \n",
      "2        0.472538  8.519049   5.010352  6.023009  \n",
      "\n",
      "[3 rows x 22 columns]\n"
     ]
    }
   ],
   "source": [
    "from kmodes.kprototypes import KPrototypes\n",
    "\n",
    "# Define the model\n",
    "kproto = KPrototypes(n_clusters=3, init='Huang', random_state=42)\n",
    "\n",
    "# Print combined_data shape to verify data before clustering\n",
    "print(\"Combined data shape:\", combined_data.shape)\n",
    "\n",
    "# Print first few rows of combined_data to ensure it's correct\n",
    "print(\"First few rows of combined_data:\\n\", combined_data[:5])\n",
    "\n",
    "# Fit the model and predict cluster labels\n",
    "clusters = kproto.fit_predict(combined_data, categorical=[i for i in range(len(numerical_columns), len(combined_data[0]))])\n",
    "\n",
    "# Print the cluster labels explicitly\n",
    "print(\"Cluster labels:\", clusters)\n",
    "\n",
    "# Check if the number of clusters matches the number of rows in the DataFrame\n",
    "print(f\"Number of clusters: {len(clusters)}, Number of rows in df: {len(df)}\")\n",
    "\n",
    "# Add the cluster labels to the original dataframe\n",
    "df['Cluster'] = clusters\n",
    "\n",
    "# Display the first few rows of the dataframe with the cluster labels\n",
    "print(\"DataFrame with clusters:\\n\", df.head())\n",
    "\n",
    "# Now, group by clusters to get the mean for each variable\n",
    "cluster_summary = df.groupby('Cluster').mean()\n",
    "print(cluster_summary)"
   ]
  },
  {
   "cell_type": "code",
   "execution_count": 13,
   "id": "2aae3a50-9f72-490c-8ba6-667a472a6e0e",
   "metadata": {},
   "outputs": [
    {
     "name": "stdout",
     "output_type": "stream",
     "text": [
      "         Diabetes_binary    HighBP  HighChol  CholCheck        BMI    Smoker  \\\n",
      "Cluster                                                                        \n",
      "0               0.700882  0.733054  0.648698   0.987196  31.965784  0.576393   \n",
      "1               0.637216  0.666369  0.647925   0.972631  32.058159  0.607467   \n",
      "2               0.448980  0.521975  0.489767   0.973553  29.227856  0.441829   \n",
      "\n",
      "           Stroke  HeartDiseaseorAttack  PhysActivity    Fruits  ...  \\\n",
      "Cluster                                                          ...   \n",
      "0        0.129869              0.285668      0.505810  0.586723  ...   \n",
      "1        0.123159              0.228321      0.538004  0.533244  ...   \n",
      "2        0.043164              0.114476      0.756854  0.625716  ...   \n",
      "\n",
      "         AnyHealthcare  NoDocbcCost   GenHlth   MentHlth   PhysHlth  DiffWalk  \\\n",
      "Cluster                                                                         \n",
      "0             0.962019     0.148053  3.909727   2.632559  25.276092  0.638046   \n",
      "1             0.927413     0.243344  3.808716  26.552134  16.468690  0.559423   \n",
      "2             0.957147     0.066337  2.535272   1.138765   1.190947  0.149520   \n",
      "\n",
      "              Sex       Age  Education    Income  \n",
      "Cluster                                           \n",
      "0        0.436626  9.380783   4.635356  4.748655  \n",
      "1        0.358768  8.011304   4.588725  4.370519  \n",
      "2        0.472538  8.519049   5.010352  6.023009  \n",
      "\n",
      "[3 rows x 22 columns]\n",
      "Cluster  HighBP\n",
      "0        1          6813\n",
      "         0          2481\n",
      "1        1          4480\n",
      "         0          2243\n",
      "2        1         28539\n",
      "         0         26136\n",
      "Name: count, dtype: int64\n",
      "Cluster  HighChol\n",
      "0        1            6029\n",
      "         0            3265\n",
      "1        1            4356\n",
      "         0            2367\n",
      "2        0           27897\n",
      "         1           26778\n",
      "Name: count, dtype: int64\n",
      "Cluster  CholCheck\n",
      "0        1             9175\n",
      "         0              119\n",
      "1        1             6539\n",
      "         0              184\n",
      "2        1            53229\n",
      "         0             1446\n",
      "Name: count, dtype: int64\n",
      "Cluster  Smoker\n",
      "0        1          5357\n",
      "         0          3937\n",
      "1        1          4084\n",
      "         0          2639\n",
      "2        0         30518\n",
      "         1         24157\n",
      "Name: count, dtype: int64\n",
      "Cluster  Stroke\n",
      "0        0          8087\n",
      "         1          1207\n",
      "1        0          5895\n",
      "         1           828\n",
      "2        0         52315\n",
      "         1          2360\n",
      "Name: count, dtype: int64\n",
      "Cluster  HeartDiseaseorAttack\n",
      "0        0                        6639\n",
      "         1                        2655\n",
      "1        0                        5188\n",
      "         1                        1535\n",
      "2        0                       48416\n",
      "         1                        6259\n",
      "Name: count, dtype: int64\n",
      "Cluster  PhysActivity\n",
      "0        1                4701\n",
      "         0                4593\n",
      "1        1                3617\n",
      "         0                3106\n",
      "2        1               41381\n",
      "         0               13294\n",
      "Name: count, dtype: int64\n",
      "Cluster  Fruits\n",
      "0        1          5453\n",
      "         0          3841\n",
      "1        1          3585\n",
      "         0          3138\n",
      "2        1         34211\n",
      "         0         20464\n",
      "Name: count, dtype: int64\n",
      "Cluster  Veggies\n",
      "0        1           6964\n",
      "         0           2330\n",
      "1        1           4899\n",
      "         0           1824\n",
      "2        1          43897\n",
      "         0          10778\n",
      "Name: count, dtype: int64\n",
      "Cluster  HvyAlcoholConsump\n",
      "0        0                     9050\n",
      "         1                      244\n",
      "1        0                     6413\n",
      "         1                      310\n",
      "2        0                    52209\n",
      "         1                     2466\n",
      "Name: count, dtype: int64\n",
      "Cluster  AnyHealthcare\n",
      "0        1                 8941\n",
      "         0                  353\n",
      "1        1                 6235\n",
      "         0                  488\n",
      "2        1                52332\n",
      "         0                 2343\n",
      "Name: count, dtype: int64\n",
      "Cluster  NoDocbcCost\n",
      "0        0               7918\n",
      "         1               1376\n",
      "1        0               5087\n",
      "         1               1636\n",
      "2        0              51048\n",
      "         1               3627\n",
      "Name: count, dtype: int64\n",
      "Cluster  GenHlth\n",
      "0        4           3692\n",
      "         5           2878\n",
      "         3           1895\n",
      "         2            665\n",
      "         1            164\n",
      "1        4           2338\n",
      "         5           2069\n",
      "         3           1474\n",
      "         2            645\n",
      "         1            197\n",
      "2        3          20058\n",
      "         2          18562\n",
      "         1           7921\n",
      "         4           7273\n",
      "         5            861\n",
      "Name: count, dtype: int64\n",
      "Cluster  DiffWalk\n",
      "0        1            5930\n",
      "         0            3364\n",
      "1        1            3761\n",
      "         0            2962\n",
      "2        0           46500\n",
      "         1            8175\n",
      "Name: count, dtype: int64\n",
      "Cluster  Sex\n",
      "0        0       5236\n",
      "         1       4058\n",
      "1        0       4311\n",
      "         1       2412\n",
      "2        0      28839\n",
      "         1      25836\n",
      "Name: count, dtype: int64\n",
      "Cluster  Age\n",
      "0        10     1618\n",
      "         9      1496\n",
      "         11     1226\n",
      "         8      1141\n",
      "         13     1016\n",
      "         12      881\n",
      "         7       842\n",
      "         6       494\n",
      "         5       256\n",
      "         4       147\n",
      "         3        96\n",
      "         2        52\n",
      "         1        29\n",
      "1        8      1151\n",
      "         9      1083\n",
      "         7       914\n",
      "         10      849\n",
      "         6       582\n",
      "         11      494\n",
      "         5       395\n",
      "         12      327\n",
      "         4       280\n",
      "         13      245\n",
      "         3       182\n",
      "         2       120\n",
      "         1       101\n",
      "2        10     8389\n",
      "         9      7533\n",
      "         11     6324\n",
      "         8      6311\n",
      "         7      5116\n",
      "         12     4186\n",
      "         13     4165\n",
      "         6      3572\n",
      "         5      2869\n",
      "         4      2366\n",
      "         3      1771\n",
      "         2      1224\n",
      "         1       849\n",
      "Name: count, dtype: int64\n",
      "Cluster  Education\n",
      "0        4             3123\n",
      "         5             2772\n",
      "         6             2304\n",
      "         3              728\n",
      "         2              354\n",
      "         1               13\n",
      "1        4             2162\n",
      "         5             2133\n",
      "         6             1527\n",
      "         3              588\n",
      "         2              298\n",
      "         1               15\n",
      "2        6            22189\n",
      "         5            15125\n",
      "         4            14188\n",
      "         3             2131\n",
      "         2              995\n",
      "         1               47\n",
      "Name: count, dtype: int64\n",
      "Cluster  Income\n",
      "0        8          1374\n",
      "         6          1286\n",
      "         5          1272\n",
      "         4          1225\n",
      "         3          1132\n",
      "         7          1115\n",
      "         2          1075\n",
      "         1           815\n",
      "1        2           962\n",
      "         1           911\n",
      "         8           893\n",
      "         4           874\n",
      "         3           848\n",
      "         6           775\n",
      "         5           753\n",
      "         7           707\n",
      "2        8         18379\n",
      "         7          9603\n",
      "         6          8226\n",
      "         5          5985\n",
      "         4          4559\n",
      "         3          3577\n",
      "         2          2461\n",
      "         1          1885\n",
      "Name: count, dtype: int64\n"
     ]
    }
   ],
   "source": [
    "cluster_summary = df.groupby('Cluster').mean()\n",
    "print(cluster_summary)\n",
    "\n",
    "# For categorical features, you can check the value counts\n",
    "for col in categorical_columns:\n",
    "    print(df.groupby('Cluster')[col].value_counts())"
   ]
  },
  {
   "cell_type": "code",
   "execution_count": 14,
   "id": "0c0d06f1-2d0a-4a41-8c6c-7feae894173b",
   "metadata": {},
   "outputs": [
    {
     "data": {
      "image/png": "[encoded data removed]",
      "text/plain": [
       "<Figure size 640x480 with 1 Axes>"
      ]
     },
     "metadata": {},
     "output_type": "display_data"
    },
    {
     "data": {
      "image/png": "[encoded data removed]",
      "text/plain": [
       "<Figure size 640x480 with 1 Axes>"
      ]
     },
     "metadata": {},
     "output_type": "display_data"
    }
   ],
   "source": [
    "import seaborn as sns\n",
    "import matplotlib.pyplot as plt\n",
    "\n",
    "# Boxplot for BMI across clusters\n",
    "sns.boxplot(x='Cluster', y='BMI', data=df)\n",
    "plt.title('BMI Distribution by Cluster')\n",
    "plt.show()\n",
    "\n",
    "# Count plot for a categorical feature\n",
    "sns.countplot(x='Cluster', hue='Sex', data=df)\n",
    "plt.title('Cluster Distribution by Sex')\n",
    "plt.show()"
   ]
  },
  {
   "cell_type": "code",
   "execution_count": 15,
   "id": "4f1011cd-0084-4cc6-9d8d-613ba82cfa00",
   "metadata": {},
   "outputs": [],
   "source": [
    "df.to_csv('diabetes_with_clusters.csv', index=False)"
   ]
  },
  {
   "cell_type": "markdown",
   "id": "5b2fc2b4-18d4-45ea-bc14-c765821c1f68",
   "metadata": {},
   "source": [
    "### **Clusters' Description**"
   ]
  },
  {
   "cell_type": "markdown",
   "id": "7d37bc17-2705-4ab2-bfcf-70558c35a54d",
   "metadata": {},
   "source": [
    "Cluster 0:\n",
    "Diabetes prevalence: High (70% have prediabetes or diabetes).\n",
    "High blood pressure (HighBP): Very common (73%).\n",
    "High cholesterol (HighChol): Fairly common (65%).\n",
    "Cholesterol check (CholCheck): Nearly all individuals (99%) have had their cholesterol checked.\n",
    "BMI: Average BMI of 31.97, indicating obesity.\n",
    "Smokers: Over half are smokers (58%).\n",
    "Heart Disease or Stroke: High prevalence of heart disease or stroke (29% heart disease, 13% stroke).\n",
    "Physical Activity: Moderate engagement in physical activity (50%).\n",
    "Fruit and Veggie Consumption: Moderate consumption of fruits (59%) and high consumption of vegetables (75%).\n",
    "Mental and Physical Health: Individuals report high mental health issues (average 2.63 days per month) and severe physical health issues (25 days of poor physical health per month), and 64% report difficulty walking.\n",
    "Healthcare Access: Almost all (96%) have healthcare coverage.\n",
    "General Health (GenHlth): Poor general health with a score of 3.9 (scale of 1 to 5).\n",
    "Demographics:\n",
    "Sex: 44% female, 56% male.\n",
    "Age: Older (mean age group around 9.38, likely 55-64 years).\n",
    "Education: Moderate education level (average of 4.6, possibly high school diploma).\n",
    "Income: Middle-income level (average income score of 4.75, likely between $35,000-$49,999)."
   ]
  },
  {
   "cell_type": "markdown",
   "id": "1c2dae57-d691-46e2-8cf3-1fae82d4a8e2",
   "metadata": {},
   "source": [
    "Cluster 1:\n",
    "Diabetes prevalence: Slightly lower than Cluster 0 (64%).\n",
    "High blood pressure (HighBP): Slightly lower than Cluster 0 (67%).\n",
    "High cholesterol (HighChol): Similar to Cluster 0 (65%).\n",
    "Cholesterol check (CholCheck): Most have had their cholesterol checked (97%).\n",
    "BMI: Slightly higher than Cluster 0 (BMI of 32.06).\n",
    "Smokers: High smoking rate (61%).\n",
    "Heart Disease or Stroke: Lower prevalence than Cluster 0 (23% heart disease, 12% stroke).\n",
    "Physical Activity: Moderate physical activity (54%).\n",
    "Fruit and Veggie Consumption: Lower fruit (53%) and veggie (63%) consumption than Cluster 0.\n",
    "Mental and Physical Health: Individuals report significantly worse mental health issues (average of 26.55 days of poor mental health per month) and severe physical health problems (16.5 days per month), and 56% report difficulty walking.\n",
    "Healthcare Access: Slightly lower coverage (92%).\n",
    "General Health (GenHlth): Poor general health (3.8).\n",
    "Demographics:\n",
    "Sex: 36% female, 64% male.\n",
    "Age: Slightly younger than Cluster 0 (average age group around 8.01, likely 45-54 years).\n",
    "Education: Similar education level to Cluster 0 (average of 4.6).\n",
    "Income: Slightly lower income level (average score of 4.37)."
   ]
  },
  {
   "cell_type": "markdown",
   "id": "243d8383-deae-47c2-a15f-3622371d7d35",
   "metadata": {},
   "source": [
    "Cluster 2:\n",
    "Diabetes prevalence: Significantly lower than Clusters 0 and 1 (45%).\n",
    "High blood pressure (HighBP): Much lower prevalence (52%).\n",
    "High cholesterol (HighChol): Lowest (49%).\n",
    "Cholesterol check (CholCheck): Almost all have had cholesterol checks (97%).\n",
    "BMI: Lower BMI (29.2), close to overweight range.\n",
    "Smokers: Lowest percentage of smokers (44%).\n",
    "Heart Disease or Stroke: Lowest heart disease (11%) and stroke (4%) prevalence.\n",
    "Physical Activity: Highest engagement in physical activity (76%).\n",
    "Fruit and Veggie Consumption: Higher consumption of fruits (63%) and veggies (80%) than other clusters.\n",
    "Mental and Physical Health: Best mental health (average 1.14 days of poor mental health per month) and physical health (1.19 days of poor physical health per month). Only 15% report difficulty walking.\n",
    "Healthcare Access: Most have healthcare coverage (95%).\n",
    "General Health (GenHlth): Best general health (2.5).\n",
    "Demographics:\n",
    "Sex: 47% female, 53% male.\n",
    "Age: Younger than Cluster 0 but older than Cluster 1 (average age group 8.52, likely 50-59 years).\n",
    "Education: Higher education level (average 5.0, possibly some college or higher).\n",
    "Income: Highest income level (average of 6.02, likely between $50,000-$74,999 or higher)."
   ]
  },
  {
   "cell_type": "markdown",
   "id": "7073feae-fb6f-4f49-80c4-a6ff023f72da",
   "metadata": {},
   "source": [
    "### **Potential Insights**"
   ]
  },
  {
   "cell_type": "markdown",
   "id": "6e4edcf2-ab83-4b04-aab1-2287c74e56a3",
   "metadata": {},
   "source": [
    "SUMMARY: Cluster 0: High prevalence of diabetes, heart disease, and poor physical health. Middle-income older adults with high BMI and poor general health, predominantly male (56%).\n",
    "Cluster 1: Similar to Cluster 0 but slightly younger, with worse mental health and lower physical activity. This cluster has an even higher percentage of males (64%).\n",
    "Cluster 2: Healthier cluster with lower prevalence of diabetes and heart disease, better mental and physical health, higher income, and more educated individuals. The gender division is more balanced, with 47% females and 53% males."
   ]
  },
  {
   "cell_type": "code",
   "execution_count": 24,
   "id": "c4040a4b-183c-4696-b518-1d190eb119e4",
   "metadata": {},
   "outputs": [
    {
     "data": {
      "image/png": "[encoded data removed]",
      "text/plain": [
       "<Figure size 600x600 with 1 Axes>"
      ]
     },
     "metadata": {},
     "output_type": "display_data"
    }
   ],
   "source": [
    "import matplotlib.pyplot as plt\n",
    "\n",
    "# Data for the clusters\n",
    "labels = ['Cluster 0', 'Cluster 1', 'Cluster 2']\n",
    "colors = ['#ff9999', '#66b3ff', '#99ff99']\n",
    "cluster_sizes = [9294, 6723, 54675]  # sizes of Cluster 0, Cluster 1, and Cluster 2\n",
    "\n",
    "# Create pie chart\n",
    "plt.figure(figsize=(6, 6))\n",
    "plt.pie(cluster_sizes, labels=labels, colors=colors, \n",
    "        autopct='%1.1f%%', startangle=140, textprops={'fontsize': 12}, \n",
    "        wedgeprops={'edgecolor': 'white'})\n",
    "\n",
    "plt.title('Cluster Distribution with Percentage Shares')\n",
    "plt.show()"
   ]
  },
  {
   "cell_type": "markdown",
   "id": "6cb17dde-6a2a-427c-9b36-b124bf4c70f3",
   "metadata": {},
   "source": [
    "Clusters with higher rates of smoking, physical inactivity, or poor diet (e.g., Cluster 0 and Cluster 1) can be the focus of specific behavioral interventions like smoking cessation programs, exercise regimens, or nutritional guidance."
   ]
  },
  {
   "cell_type": "markdown",
   "id": "02458285-9d46-4793-b80f-16656ba90e7c",
   "metadata": {},
   "source": [
    "Cluster 0 might be encouraged to join wellness programs focused on managing chronic conditions, while those in Cluster 2 could benefit from general fitness and health promotion activities."
   ]
  },
  {
   "cell_type": "markdown",
   "id": "78c0c851-34b2-4289-bc2e-8f22c3751808",
   "metadata": {},
   "source": [
    "Cluster 0 has higher rates of diabetes, high blood pressure, and cholesterol, so they might benefit more from hypertension and cholesterol management programs. Clusters with fewer health issues (Cluster 2) may focus on preventative care."
   ]
  },
  {
   "cell_type": "markdown",
   "id": "3d9cf344-d832-42dd-ad67-61c9314d4f73",
   "metadata": {},
   "source": [
    "Regions with more individuals from Cluster 0 (higher diabetes prevalence) may require more diabetes management programs or access to medications."
   ]
  },
  {
   "cell_type": "markdown",
   "id": "485b0e99-6f46-430d-81cf-6605af0e4824",
   "metadata": {},
   "source": [
    " Individuals in higher-risk clusters (e.g., Cluster 0) might be offered different premiums based on their likelihood of developing costly medical conditions, while those in healthier clusters might receive lower rates."
   ]
  },
  {
   "cell_type": "code",
   "execution_count": null,
   "id": "a032d893-9c77-4049-a3b0-3fcb52ca4c58",
   "metadata": {},
   "outputs": [],
   "source": []
  }
 ],
 "metadata": {
  "kernelspec": {
   "display_name": "Python 3 (ipykernel)",
   "language": "python",
   "name": "python3"
  },
  "language_info": {
   "codemirror_mode": {
    "name": "ipython",
    "version": 3
   },
   "file_extension": ".py",
   "mimetype": "text/x-python",
   "name": "python",
   "nbconvert_exporter": "python",
   "pygments_lexer": "ipython3",
   "version": "3.12.2"
  }
 },
 "nbformat": 4,
 "nbformat_minor": 5
}
